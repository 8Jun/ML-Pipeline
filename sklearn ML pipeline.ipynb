{
  "nbformat": 4,
  "nbformat_minor": 0,
  "metadata": {
    "colab": {
      "name": "HD pipeline ML.ipynb",
      "provenance": [],
      "collapsed_sections": []
    },
    "kernelspec": {
      "name": "python3",
      "display_name": "Python 3"
    }
  },
  "cells": [
    {
      "cell_type": "code",
      "metadata": {
        "id": "v1vobuYjC9GW",
        "colab_type": "code",
        "colab": {}
      },
      "source": [
        "import pandas as pd\n",
        "import numpy as np\n",
        "import matplotlib.pyplot as plt\n",
        "from google.colab import files"
      ],
      "execution_count": 0,
      "outputs": []
    },
    {
      "cell_type": "code",
      "metadata": {
        "id": "4BdbhcDuDBCp",
        "colab_type": "code",
        "outputId": "1dbff677-e23f-4e68-c60b-ea3aa79ce4c1",
        "colab": {
          "resources": {
            "http://localhost:8080/nbextensions/google.colab/files.js": {
              "data": "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",
              "ok": true,
              "headers": [
                [
                  "content-type",
                  "application/javascript"
                ]
              ],
              "status": 200,
              "status_text": ""
            }
          },
          "base_uri": "https://localhost:8080/",
          "height": 74
        }
      },
      "source": [
        "uploaded = files.upload()"
      ],
      "execution_count": 0,
      "outputs": [
        {
          "output_type": "display_data",
          "data": {
            "text/html": [
              "\n",
              "     <input type=\"file\" id=\"files-d5cbd92a-d74c-4be6-8bc6-ee193013d145\" name=\"files[]\" multiple disabled />\n",
              "     <output id=\"result-d5cbd92a-d74c-4be6-8bc6-ee193013d145\">\n",
              "      Upload widget is only available when the cell has been executed in the\n",
              "      current browser session. Please rerun this cell to enable.\n",
              "      </output>\n",
              "      <script src=\"/nbextensions/google.colab/files.js\"></script> "
            ],
            "text/plain": [
              "<IPython.core.display.HTML object>"
            ]
          },
          "metadata": {
            "tags": []
          }
        },
        {
          "output_type": "stream",
          "text": [
            "Saving clean_V6.csv to clean_V6 (10).csv\n"
          ],
          "name": "stdout"
        }
      ]
    },
    {
      "cell_type": "code",
      "metadata": {
        "id": "G0t3m9eEDF6i",
        "colab_type": "code",
        "colab": {}
      },
      "source": [
        "features = pd.read_csv('clean_V6.csv')\n",
        "features = features.drop(columns=['ALLIANCE_LEVEL_ID', 'NET_SALES_UNITS', 'SOLD_TO_ID'])"
      ],
      "execution_count": 0,
      "outputs": []
    },
    {
      "cell_type": "code",
      "metadata": {
        "id": "bXoz09iMDMBZ",
        "colab_type": "code",
        "colab": {}
      },
      "source": [
        "decimals = 2\n",
        "\n",
        "features['HEIGHT'] = (features['HEIGHT']/12).apply(lambda x: round(x, decimals))\n",
        "features['WIDTH'] = (features['WIDTH']/12).apply(lambda x: round(x, decimals))\n",
        "\n",
        "features['HEIGHT'] = features['HEIGHT'].astype(str)\n",
        "features[['HEIGHT_FT','HEIGHT_IN']] = features.HEIGHT.str.split('.', expand=True)\n",
        "\n",
        "features['WIDTH'] = features['WIDTH'].astype(str)\n",
        "features[['WIDTH_FT','WIDTH_IN']] = features.WIDTH.str.split('.', expand=True)"
      ],
      "execution_count": 0,
      "outputs": []
    },
    {
      "cell_type": "code",
      "metadata": {
        "id": "Pe0bREzKDQNM",
        "colab_type": "code",
        "colab": {}
      },
      "source": [
        "features = features.drop(columns=['WIDTH', 'HEIGHT'])\n",
        "\n",
        "features[['HEIGHT_FT', 'HEIGHT_IN']] = features[['HEIGHT_FT', 'HEIGHT_IN']].astype(float)\n",
        "features[['WIDTH_FT', 'WIDTH_IN']] = features[['WIDTH_FT', 'WIDTH_IN']].astype(float)\n",
        "\n",
        "features[['HEIGHT_IN', 'WIDTH_IN']] = (features[['HEIGHT_IN', 'WIDTH_IN']]/12).apply(lambda x: round(x, decimals))\n",
        "\n",
        "features['SO_CREATED_DATE'] = features['SO_CREATED_DATE'].apply(pd.to_datetime)\n",
        "\n",
        "features['SO_CREATED_DATE'] = features['SO_CREATED_DATE'].astype(str)\n",
        "features[['SO_CREATED_DATE_Y', 'SO_CREATED_DATE_M', 'SO_CREATED_DATE_D']] = features.SO_CREATED_DATE.str.split('-', expand=True)"
      ],
      "execution_count": 0,
      "outputs": []
    },
    {
      "cell_type": "code",
      "metadata": {
        "id": "TE4sQI5WDgDp",
        "colab_type": "code",
        "colab": {}
      },
      "source": [
        "season_dict = {'12':'winter', '01':'winter', '02':'winter', '03':'spring', '04':'spring', '05':'spring', '06':'summer', '07':'summer', '08':'summer', '09':'fall', '10':'fall', '11':'fall'}\n",
        "\n",
        "features['SEASON'] = features['SO_CREATED_DATE_M'].map(season_dict)"
      ],
      "execution_count": 0,
      "outputs": []
    },
    {
      "cell_type": "code",
      "metadata": {
        "id": "4BKIzDmH0DK6",
        "colab_type": "code",
        "colab": {}
      },
      "source": [
        "def label_states (row):\n",
        "    if row['REGION_STATE_ID'] in ['ME', 'NH', 'VE', 'MA', 'RI', 'CT', 'NY', 'PA', 'NJ']:\n",
        "      return 'NE'\n",
        "    elif row['REGION_STATE_ID'] in ['WI', 'MI', 'IL', 'IN', 'OH', 'ND', 'SD', 'NE', 'KS', 'MN', 'IA', 'MO']:\n",
        "      return 'MW'\n",
        "    elif row['REGION_STATE_ID'] in ['DE', 'MD', 'DC', 'VA', 'WV', 'NC', 'SC', 'GA', 'FL', 'KY', 'TN', 'MS', 'AL', 'OK', 'TX', 'AR', 'LA']:\n",
        "      return 'S'\n",
        "    else:\n",
        "      return 'W'\n",
        "\n",
        "features['REGION'] = features.apply(lambda row: label_states(row), axis=1)\n",
        "\n",
        "features.head()"
      ],
      "execution_count": 0,
      "outputs": []
    },
    {
      "cell_type": "code",
      "metadata": {
        "id": "jjjzZ1W8DiqJ",
        "colab_type": "code",
        "colab": {}
      },
      "source": [
        "features = features.reindex(columns=['REGIONAL_SALES_MGR_ID', 'REGION_STATE_ID', 'FABRIC_ID',\t'ORIGINAL_MATERIAL_ID',\t'SO_CREATED_DATE', 'HEIGHT_FT',\t'HEIGHT_IN',\t'WIDTH_FT',\t'WIDTH_IN',\t'SO_CREATED_DATE_Y',\t'SO_CREATED_DATE_M',\t'SO_CREATED_DATE_D',\t'SEASON', 'REGION', 'REJECT'])\n",
        "\n",
        "features = features.drop(columns=['REGION_STATE_ID'])"
      ],
      "execution_count": 0,
      "outputs": []
    },
    {
      "cell_type": "code",
      "metadata": {
        "id": "w5-Gi--YGfqC",
        "colab_type": "code",
        "colab": {}
      },
      "source": [
        "features.head()"
      ],
      "execution_count": 0,
      "outputs": []
    },
    {
      "cell_type": "code",
      "metadata": {
        "id": "pCBEr5CaFu_p",
        "colab_type": "code",
        "colab": {}
      },
      "source": [
        "from sklearn.compose import ColumnTransformer\n",
        "from sklearn.datasets import fetch_openml\n",
        "from sklearn.pipeline import Pipeline\n",
        "from sklearn.impute import SimpleImputer\n",
        "from sklearn.preprocessing import StandardScaler, OneHotEncoder, LabelEncoder\n",
        "from sklearn.linear_model import LogisticRegression, RidgeClassifier\n",
        "from sklearn.model_selection import train_test_split, GridSearchCV\n",
        "from sklearn.tree import DecisionTreeClassifier\n",
        "from sklearn.svm import LinearSVC\n",
        "from sklearn.ensemble import RandomForestClassifier, AdaBoostClassifier\n",
        "from sklearn.naive_bayes import GaussianNB\n",
        "from sklearn.discriminant_analysis import QuadraticDiscriminantAnalysis\n",
        "from sklearn.neural_network import MLPClassifier\n",
        "from sklearn.neighbors import KNeighborsClassifier\n",
        "from sklearn.svm import SVC\n",
        "from sklearn.metrics import classification_report, confusion_matrix\n",
        "from xgboost import XGBClassifier\n",
        "from sklearn import metrics\n",
        "from sklearn.model_selection import cross_val_score\n",
        "\n",
        "np.random.seed(0)"
      ],
      "execution_count": 0,
      "outputs": []
    },
    {
      "cell_type": "code",
      "metadata": {
        "id": "KSAbbCM0FvjU",
        "colab_type": "code",
        "colab": {}
      },
      "source": [
        "numeric_features = ['HEIGHT_FT','HEIGHT_IN','WIDTH_FT','WIDTH_IN']\n",
        "numeric_transformer = Pipeline(steps=[\n",
        "    ('imputer', SimpleImputer(strategy='median')),\n",
        "    ('scaler', StandardScaler())])\n",
        "\n",
        "categorical_features = ['FABRIC_ID','ORIGINAL_MATERIAL_ID','SEASON','REGION']\n",
        "\n",
        "categorical_transformer = Pipeline(steps=[\n",
        "    ('imputer', SimpleImputer(strategy='constant', fill_value='missing')),\n",
        "    ('onehot', OneHotEncoder(handle_unknown='ignore'))])\n",
        "\n",
        "preprocessor = ColumnTransformer(\n",
        "    transformers=[\n",
        "        ('num', numeric_transformer, numeric_features),\n",
        "        ('cat', categorical_transformer, categorical_features)])"
      ],
      "execution_count": 0,
      "outputs": []
    },
    {
      "cell_type": "code",
      "metadata": {
        "id": "CS-7IU9KIT2U",
        "colab_type": "code",
        "colab": {}
      },
      "source": [
        "from sklearn.metrics import precision_recall_curve\n",
        "from sklearn.metrics import plot_precision_recall_curve\n",
        "from sklearn.metrics import average_precision_score\n",
        "from sklearn.metrics import log_loss\n",
        "from sklearn.metrics import roc_auc_score, roc_curve, auc\n",
        "import matplotlib.pyplot as plt\n",
        "from sklearn.metrics import f1_score"
      ],
      "execution_count": 0,
      "outputs": []
    },
    {
      "cell_type": "code",
      "metadata": {
        "id": "nyMjyWnpI7y3",
        "colab_type": "code",
        "colab": {}
      },
      "source": [
        "classifiers = [\n",
        "    #LogisticRegression(),\n",
        "    DecisionTreeClassifier(),\n",
        "    RandomForestClassifier(),\n",
        "    AdaBoostClassifier(),\n",
        "    XGBClassifier(),\n",
        "    #GaussianNB()\n",
        "    #MLPClassifier(),\n",
        "    KNeighborsClassifier()\n",
        "]"
      ],
      "execution_count": 0,
      "outputs": []
    },
    {
      "cell_type": "code",
      "metadata": {
        "id": "jhoni-O9JQX7",
        "colab_type": "code",
        "colab": {}
      },
      "source": [
        "clf = Pipeline(steps=[('preprocessor', preprocessor),\n",
        "                      ('clf', None)])"
      ],
      "execution_count": 0,
      "outputs": []
    },
    {
      "cell_type": "code",
      "metadata": {
        "id": "jJ5mcVN-KRc3",
        "colab_type": "code",
        "outputId": "dffd0964-dbf3-4eec-d590-89301e69a58a",
        "colab": {
          "base_uri": "https://localhost:8080/",
          "height": 238
        }
      },
      "source": [
        "# y are the values we want to predict\n",
        "y = np.array(features['REJECT'])\n",
        "# Remove the labels from the features\n",
        "# axis 1 refers to the columns\n",
        "X = features.drop('REJECT', axis = 1)\n",
        "# Saving feature names for later use\n",
        "X_list = list(X.columns)\n",
        "X_list"
      ],
      "execution_count": 0,
      "outputs": [
        {
          "output_type": "execute_result",
          "data": {
            "text/plain": [
              "['REGIONAL_SALES_MGR_ID',\n",
              " 'FABRIC_ID',\n",
              " 'ORIGINAL_MATERIAL_ID',\n",
              " 'SO_CREATED_DATE',\n",
              " 'HEIGHT_FT',\n",
              " 'HEIGHT_IN',\n",
              " 'WIDTH_FT',\n",
              " 'WIDTH_IN',\n",
              " 'SO_CREATED_DATE_Y',\n",
              " 'SO_CREATED_DATE_M',\n",
              " 'SO_CREATED_DATE_D',\n",
              " 'SEASON',\n",
              " 'REGION']"
            ]
          },
          "metadata": {
            "tags": []
          },
          "execution_count": 401
        }
      ]
    },
    {
      "cell_type": "code",
      "metadata": {
        "id": "mJu4U-gJJV06",
        "colab_type": "code",
        "colab": {}
      },
      "source": [
        "from sklearn.model_selection import train_test_split\n",
        "X_train, X_test, y_train, y_test = train_test_split(X,y, test_size=0.2, random_state=42)"
      ],
      "execution_count": 0,
      "outputs": []
    },
    {
      "cell_type": "code",
      "metadata": {
        "id": "Nx75VPKcJXNA",
        "colab_type": "code",
        "outputId": "86c76f8e-e294-49f0-f481-195efbc23a79",
        "colab": {
          "base_uri": "https://localhost:8080/",
          "height": 85
        }
      },
      "source": [
        "print('Training Features Shape:', X_train.shape)\n",
        "print('Training Labels Shape:', y_train.shape)\n",
        "print('Testing Features Shape:', X_test.shape)\n",
        "print('Testing Labels Shape:', y_test.shape)"
      ],
      "execution_count": 0,
      "outputs": [
        {
          "output_type": "stream",
          "text": [
            "Training Features Shape: (8782, 13)\n",
            "Training Labels Shape: (8782,)\n",
            "Testing Features Shape: (2196, 13)\n",
            "Testing Labels Shape: (2196,)\n"
          ],
          "name": "stdout"
        }
      ]
    },
    {
      "cell_type": "code",
      "metadata": {
        "id": "tUyW6ccXJY4u",
        "colab_type": "code",
        "colab": {}
      },
      "source": [
        "roc_things = []\n",
        "precision_recall_things = []"
      ],
      "execution_count": 0,
      "outputs": []
    },
    {
      "cell_type": "code",
      "metadata": {
        "id": "ijXvsIl-Ja9X",
        "colab_type": "code",
        "outputId": "b34c4350-949d-4cb9-daf9-4ba58c0f6367",
        "colab": {
          "base_uri": "https://localhost:8080/",
          "height": 1000
        }
      },
      "source": [
        "for classifier in classifiers:\n",
        "    clf.set_params(clf=classifier).fit(X_train, y_train)\n",
        "    classifier_name = classifier.__class__.__name__\n",
        "    print(str(classifier))\n",
        "    print('~Model Score: %.3f' % clf.score(X_test, y_test))\n",
        "\n",
        "    y_score = clf.predict_proba(X_test)[:,1]\n",
        "\n",
        "    y_pred = clf.predict(X_test)\n",
        "    \n",
        "    roc_auc = roc_auc_score(y_test, y_score)\n",
        "    fpr, tpr, _ = roc_curve(y_test, y_score)\n",
        "    roc_things.append((fpr, tpr, '{} AUC: {:.3f}'.format(classifier_name, roc_auc)))\n",
        "    \n",
        "    precision, recall, thresholds = precision_recall_curve(y_test, y_score)\n",
        "    pr_auc = auc(1-recall, 1-precision)\n",
        "    precision_recall_things.append((1-recall, 1-precision, 1-thresholds, '{} AUC: {:.3f}'.format(classifier_name, pr_auc)))\n",
        "    #plot_precision_recall_curve(clf, X_test, y_test)\n",
        "    \n",
        "    scores = cross_val_score(clf, X, y, cv=5)\n",
        "    print('~Accuracy: %0.2f (+/- %0.2f)' % (scores.mean(), scores.std() * 2))\n",
        "\n",
        "    print('~Confusion Matrix''\\n',\n",
        "    confusion_matrix(y_test, y_pred))\n",
        "    print('~Classification Report''\\n',\n",
        "    classification_report(y_test, y_pred))\n",
        "   \n",
        "    print('~Average Precision Score: {:.3f}'.format(average_precision_score(y_test, y_score)))\n",
        "    print('~roc_auc_score: {:.3f}'.format(roc_auc))\n",
        "    print('~precision-recall AUC: {:.3f}'.format(pr_auc))\n",
        "    print()"
      ],
      "execution_count": 0,
      "outputs": [
        {
          "output_type": "stream",
          "text": [
            "DecisionTreeClassifier(ccp_alpha=0.0, class_weight=None, criterion='gini',\n",
            "                       max_depth=None, max_features=None, max_leaf_nodes=None,\n",
            "                       min_impurity_decrease=0.0, min_impurity_split=None,\n",
            "                       min_samples_leaf=1, min_samples_split=2,\n",
            "                       min_weight_fraction_leaf=0.0, presort='deprecated',\n",
            "                       random_state=None, splitter='best')\n",
            "~Model Score: 0.899\n",
            "~Accuracy: 0.90 (+/- 0.01)\n",
            "~Confusion Matrix\n",
            " [[1954  111]\n",
            " [ 111   20]]\n",
            "~Classification Report\n",
            "               precision    recall  f1-score   support\n",
            "\n",
            "           0       0.95      0.95      0.95      2065\n",
            "           1       0.15      0.15      0.15       131\n",
            "\n",
            "    accuracy                           0.90      2196\n",
            "   macro avg       0.55      0.55      0.55      2196\n",
            "weighted avg       0.90      0.90      0.90      2196\n",
            "\n",
            "~Average Precision Score: 0.074\n",
            "~roc_auc_score: 0.549\n",
            "~precision-recall AUC: 0.823\n",
            "\n",
            "RandomForestClassifier(bootstrap=True, ccp_alpha=0.0, class_weight=None,\n",
            "                       criterion='gini', max_depth=None, max_features='auto',\n",
            "                       max_leaf_nodes=None, max_samples=None,\n",
            "                       min_impurity_decrease=0.0, min_impurity_split=None,\n",
            "                       min_samples_leaf=1, min_samples_split=2,\n",
            "                       min_weight_fraction_leaf=0.0, n_estimators=100,\n",
            "                       n_jobs=None, oob_score=False, random_state=None,\n",
            "                       verbose=0, warm_start=False)\n",
            "~Model Score: 0.943\n",
            "~Accuracy: 0.95 (+/- 0.00)\n",
            "~Confusion Matrix\n",
            " [[2064    1]\n",
            " [ 125    6]]\n",
            "~Classification Report\n",
            "               precision    recall  f1-score   support\n",
            "\n",
            "           0       0.94      1.00      0.97      2065\n",
            "           1       0.86      0.05      0.09       131\n",
            "\n",
            "    accuracy                           0.94      2196\n",
            "   macro avg       0.90      0.52      0.53      2196\n",
            "weighted avg       0.94      0.94      0.92      2196\n",
            "\n",
            "~Average Precision Score: 0.164\n",
            "~roc_auc_score: 0.680\n",
            "~precision-recall AUC: 0.834\n",
            "\n",
            "AdaBoostClassifier(algorithm='SAMME.R', base_estimator=None, learning_rate=1.0,\n",
            "                   n_estimators=50, random_state=None)\n",
            "~Model Score: 0.942\n",
            "~Accuracy: 0.95 (+/- 0.00)\n",
            "~Confusion Matrix\n",
            " [[2061    4]\n",
            " [ 124    7]]\n",
            "~Classification Report\n",
            "               precision    recall  f1-score   support\n",
            "\n",
            "           0       0.94      1.00      0.97      2065\n",
            "           1       0.64      0.05      0.10       131\n",
            "\n",
            "    accuracy                           0.94      2196\n",
            "   macro avg       0.79      0.53      0.53      2196\n",
            "weighted avg       0.92      0.94      0.92      2196\n",
            "\n",
            "~Average Precision Score: 0.174\n",
            "~roc_auc_score: 0.718\n",
            "~precision-recall AUC: 0.827\n",
            "\n",
            "XGBClassifier(base_score=0.5, booster='gbtree', colsample_bylevel=1,\n",
            "              colsample_bynode=1, colsample_bytree=1, gamma=0,\n",
            "              learning_rate=0.1, max_delta_step=0, max_depth=3,\n",
            "              min_child_weight=1, missing=None, n_estimators=100, n_jobs=1,\n",
            "              nthread=None, objective='binary:logistic', random_state=0,\n",
            "              reg_alpha=0, reg_lambda=1, scale_pos_weight=1, seed=None,\n",
            "              silent=None, subsample=1, verbosity=1)\n",
            "~Model Score: 0.942\n",
            "~Accuracy: 0.95 (+/- 0.00)\n",
            "~Confusion Matrix\n",
            " [[2064    1]\n",
            " [ 126    5]]\n",
            "~Classification Report\n",
            "               precision    recall  f1-score   support\n",
            "\n",
            "           0       0.94      1.00      0.97      2065\n",
            "           1       0.83      0.04      0.07       131\n",
            "\n",
            "    accuracy                           0.94      2196\n",
            "   macro avg       0.89      0.52      0.52      2196\n",
            "weighted avg       0.94      0.94      0.92      2196\n",
            "\n",
            "~Average Precision Score: 0.165\n",
            "~roc_auc_score: 0.685\n",
            "~precision-recall AUC: 0.836\n",
            "\n"
          ],
          "name": "stdout"
        },
        {
          "output_type": "stream",
          "text": [
            "/usr/local/lib/python3.6/dist-packages/sklearn/neural_network/_multilayer_perceptron.py:571: ConvergenceWarning: Stochastic Optimizer: Maximum iterations (200) reached and the optimization hasn't converged yet.\n",
            "  % self.max_iter, ConvergenceWarning)\n"
          ],
          "name": "stderr"
        },
        {
          "output_type": "stream",
          "text": [
            "MLPClassifier(activation='relu', alpha=0.0001, batch_size='auto', beta_1=0.9,\n",
            "              beta_2=0.999, early_stopping=False, epsilon=1e-08,\n",
            "              hidden_layer_sizes=(100,), learning_rate='constant',\n",
            "              learning_rate_init=0.001, max_fun=15000, max_iter=200,\n",
            "              momentum=0.9, n_iter_no_change=10, nesterovs_momentum=True,\n",
            "              power_t=0.5, random_state=None, shuffle=True, solver='adam',\n",
            "              tol=0.0001, validation_fraction=0.1, verbose=False,\n",
            "              warm_start=False)\n",
            "~Model Score: 0.927\n"
          ],
          "name": "stdout"
        },
        {
          "output_type": "stream",
          "text": [
            "/usr/local/lib/python3.6/dist-packages/sklearn/neural_network/_multilayer_perceptron.py:571: ConvergenceWarning: Stochastic Optimizer: Maximum iterations (200) reached and the optimization hasn't converged yet.\n",
            "  % self.max_iter, ConvergenceWarning)\n",
            "/usr/local/lib/python3.6/dist-packages/sklearn/neural_network/_multilayer_perceptron.py:571: ConvergenceWarning: Stochastic Optimizer: Maximum iterations (200) reached and the optimization hasn't converged yet.\n",
            "  % self.max_iter, ConvergenceWarning)\n",
            "/usr/local/lib/python3.6/dist-packages/sklearn/neural_network/_multilayer_perceptron.py:571: ConvergenceWarning: Stochastic Optimizer: Maximum iterations (200) reached and the optimization hasn't converged yet.\n",
            "  % self.max_iter, ConvergenceWarning)\n",
            "/usr/local/lib/python3.6/dist-packages/sklearn/neural_network/_multilayer_perceptron.py:571: ConvergenceWarning: Stochastic Optimizer: Maximum iterations (200) reached and the optimization hasn't converged yet.\n",
            "  % self.max_iter, ConvergenceWarning)\n",
            "/usr/local/lib/python3.6/dist-packages/sklearn/neural_network/_multilayer_perceptron.py:571: ConvergenceWarning: Stochastic Optimizer: Maximum iterations (200) reached and the optimization hasn't converged yet.\n",
            "  % self.max_iter, ConvergenceWarning)\n"
          ],
          "name": "stderr"
        },
        {
          "output_type": "stream",
          "text": [
            "~Accuracy: 0.93 (+/- 0.01)\n",
            "~Confusion Matrix\n",
            " [[2022   43]\n",
            " [ 118   13]]\n",
            "~Classification Report\n",
            "               precision    recall  f1-score   support\n",
            "\n",
            "           0       0.94      0.98      0.96      2065\n",
            "           1       0.23      0.10      0.14       131\n",
            "\n",
            "    accuracy                           0.93      2196\n",
            "   macro avg       0.59      0.54      0.55      2196\n",
            "weighted avg       0.90      0.93      0.91      2196\n",
            "\n",
            "~Average Precision Score: 0.149\n",
            "~roc_auc_score: 0.607\n",
            "~precision-recall AUC: 0.854\n",
            "\n",
            "KNeighborsClassifier(algorithm='auto', leaf_size=30, metric='minkowski',\n",
            "                     metric_params=None, n_jobs=None, n_neighbors=5, p=2,\n",
            "                     weights='uniform')\n",
            "~Model Score: 0.939\n",
            "~Accuracy: 0.94 (+/- 0.00)\n",
            "~Confusion Matrix\n",
            " [[2061    4]\n",
            " [ 131    0]]\n",
            "~Classification Report\n",
            "               precision    recall  f1-score   support\n",
            "\n",
            "           0       0.94      1.00      0.97      2065\n",
            "           1       0.00      0.00      0.00       131\n",
            "\n",
            "    accuracy                           0.94      2196\n",
            "   macro avg       0.47      0.50      0.48      2196\n",
            "weighted avg       0.88      0.94      0.91      2196\n",
            "\n",
            "~Average Precision Score: 0.070\n",
            "~roc_auc_score: 0.557\n",
            "~precision-recall AUC: 0.920\n",
            "\n"
          ],
          "name": "stdout"
        }
      ]
    },
    {
      "cell_type": "code",
      "metadata": {
        "id": "HVrnkzY-JsAs",
        "colab_type": "code",
        "outputId": "9cbfdbf7-5964-45f4-8d8c-ffa2a4b379f9",
        "colab": {
          "base_uri": "https://localhost:8080/",
          "height": 312
        }
      },
      "source": [
        "#ROC Curves summarize the trade-off between the true positive rate and false positive rate for a predictive model using different probability thresholds.\n",
        "roc_plt = plt.figure()\n",
        "lw = 4\n",
        "for roc_thing in roc_things:\n",
        "    fpr, tpr, label = roc_thing\n",
        "    plt.plot(fpr, tpr, lw=lw, label=label)\n",
        "plt.plot([0, 1], [0, 1], color='navy', lw=lw, linestyle='--')\n",
        "plt.title('ROC curve')\n",
        "plt.xlabel('False Positive Rate')\n",
        "plt.ylabel('True Positive Rate')\n",
        "plt.legend()"
      ],
      "execution_count": 0,
      "outputs": [
        {
          "output_type": "execute_result",
          "data": {
            "text/plain": [
              "<matplotlib.legend.Legend at 0x7f9bedbe1ac8>"
            ]
          },
          "metadata": {
            "tags": []
          },
          "execution_count": 406
        },
        {
          "output_type": "display_data",
          "data": {
            "image/png": "[encoded data removed]",
            "text/plain": [
              "<Figure size 432x288 with 1 Axes>"
            ]
          },
          "metadata": {
            "tags": []
          }
        }
      ]
    },
    {
      "cell_type": "code",
      "metadata": {
        "id": "8-5phkGDJv0P",
        "colab_type": "code",
        "outputId": "0965cfc1-cb17-4692-851c-5b19434060c7",
        "colab": {
          "base_uri": "https://localhost:8080/",
          "height": 312
        }
      },
      "source": [
        "#Precision-Recall curves summarize the trade-off between the true positive rate and the positive predictive value for a \n",
        "#predictive model using different probability thresholds.\n",
        "pr_plt = plt.figure()\n",
        "for pr_thing in precision_recall_things:\n",
        "    recall, precision, _, label = pr_thing\n",
        "    plt.plot(recall, precision, lw=lw, label=label)\n",
        "ratio = y_test[y_test].shape[0] / y_test.shape[0]\n",
        "plt.hlines(y=ratio, xmin=0, xmax=1, color='navy', lw=lw, linestyle='--')\n",
        "plt.vlines(x=ratio, ymin=0, ymax=1, color='navy', lw=lw, linestyle='--')\n",
        "plt.title('Precision-recall plot')\n",
        "plt.xlabel('Recall')\n",
        "plt.ylabel('Precision')\n",
        "plt.legend()"
      ],
      "execution_count": 0,
      "outputs": [
        {
          "output_type": "execute_result",
          "data": {
            "text/plain": [
              "<matplotlib.legend.Legend at 0x7f9bed6ba6d8>"
            ]
          },
          "metadata": {
            "tags": []
          },
          "execution_count": 407
        },
        {
          "output_type": "display_data",
          "data": {
            "image/png": "[encoded data removed]",
            "text/plain": [
              "<Figure size 432x288 with 1 Axes>"
            ]
          },
          "metadata": {
            "tags": []
          }
        }
      ]
    },
    {
      "cell_type": "code",
      "metadata": {
        "id": "ymoX82GBJxpL",
        "colab_type": "code",
        "outputId": "a08319e3-a22d-4c0f-8644-0c525da56023",
        "colab": {
          "base_uri": "https://localhost:8080/",
          "height": 34
        }
      },
      "source": [
        "from scipy.stats import hmean\n",
        "import numpy.ma as ma\n",
        "\n",
        "recall, precision, thresholds, _ = precision_recall_things[1]\n",
        "\n",
        "a = np.column_stack((recall,precision))\n",
        "\n",
        "a = ma.masked_less_equal(a, 0)\n",
        "a = ma.mask_rows(a)\n",
        "f1 = hmean(a,axis=1)\n",
        "\n",
        "threshold_that_maximizes_f1 = thresholds[np.argmax(f1)]\n",
        "print('threshold that optimizes f1: {}'.format(threshold_that_maximizes_f1))"
      ],
      "execution_count": 0,
      "outputs": [
        {
          "output_type": "stream",
          "text": [
            "threshold that optimizes f1: 0.81\n"
          ],
          "name": "stdout"
        }
      ]
    }
  ]
}